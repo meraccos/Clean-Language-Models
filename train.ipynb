{
 "cells": [
  {
   "cell_type": "code",
   "execution_count": 1,
   "metadata": {},
   "outputs": [],
   "source": [
    "import glob\n",
    "import os\n",
    "import unicodedata\n",
    "import string\n",
    "import torch\n",
    "import random\n",
    "import torch.nn.functional as F\n",
    "import torch.nn as nn\n",
    "import matplotlib.pyplot as plt\n",
    "from tqdm import tqdm\n",
    "from torch.utils.tensorboard import SummaryWriter"
   ]
  },
  {
   "cell_type": "code",
   "execution_count": 2,
   "metadata": {},
   "outputs": [],
   "source": [
    "class LSTM(nn.Module):\n",
    "    def __init__(self, input_size, hidden_size, output_size, num_layers = 1):\n",
    "        super().__init__()\n",
    "        self.input_size = input_size\n",
    "        self.hidden_size = hidden_size\n",
    "        self.num_layers = num_layers\n",
    "        \n",
    "        self.lstm = nn.LSTM(input_size=input_size,\n",
    "                            hidden_size=hidden_size,\n",
    "                            num_layers = num_layers,\n",
    "                            batch_first=False)\n",
    "        \n",
    "        self.linear1 = nn.Linear(hidden_size, output_size)\n",
    "        self.linear2 = nn.Linear(output_size, output_size)\n",
    "        \n",
    "        nn.init.kaiming_uniform_(self.linear1.weight, nonlinearity='relu')\n",
    "        nn.init.kaiming_uniform_(self.linear2.weight, nonlinearity='relu')\n",
    "            \n",
    "    def forward(self, x, hidden):\n",
    "        out, hidden = self.lstm(x, hidden)\n",
    "        out = F.relu(self.linear1(out))\n",
    "        out = self.linear2(out)\n",
    "        return out, hidden\n",
    "    \n",
    "    def init_hidden(self, batch_size=1):\n",
    "        h0 = torch.zeros(self.num_layers, batch_size, self.hidden_size)\n",
    "        c0 = torch.zeros(self.num_layers, batch_size, self.hidden_size)\n",
    "        return h0, c0"
   ]
  },
  {
   "cell_type": "code",
   "execution_count": 3,
   "metadata": {},
   "outputs": [],
   "source": [
    "# First, retrieve all the book names and collect the contexes in a list\n",
    "files = glob.glob('books/*.txt')\n",
    "book_names = []          \n",
    "all_book_lines = []   \n",
    "\n",
    "for filename in files:\n",
    "    book_names.append(os.path.splitext(os.path.basename(filename))[0])\n",
    "    with open(filename, 'r') as f:\n",
    "        all_book_lines += f.readlines()\n",
    "\n",
    "# Put all the chars into a single list\n",
    "chars = [char for line in all_book_lines for char in line]\n",
    "v = list(set(chars))  # vocab\n",
    "n_vocab = len(v)\n",
    "v_idx = {v[i]:i for i in range(n_vocab)}    # vocab-index dictionary"
   ]
  },
  {
   "cell_type": "code",
   "execution_count": 4,
   "metadata": {},
   "outputs": [],
   "source": [
    "def str_to_oh(word):\n",
    "    idxs = torch.tensor([v_idx[l] for l in word])\n",
    "    oh = F.one_hot(idxs, n_vocab)\n",
    "    return oh\n",
    "\n",
    "context_length = 100"
   ]
  },
  {
   "cell_type": "code",
   "execution_count": 5,
   "metadata": {},
   "outputs": [],
   "source": [
    "# This calculates the indexes essentially twice, \n",
    "# can be optimized\n",
    "def random_tr_set_batch(data, seq_length=32, batch_size=64):\n",
    "    X_batch = torch.zeros(seq_length, batch_size, n_vocab).float()\n",
    "    Y_batch = torch.zeros(seq_length, batch_size, dtype=torch.long)\n",
    "    \n",
    "    for i in range(batch_size):\n",
    "        start_idx = random.randint(0, len(data) - seq_length - 1)\n",
    "        x_list = data[start_idx:start_idx + seq_length]\n",
    "        y_list = data[start_idx + 1:start_idx + seq_length + 1]\n",
    "\n",
    "        X_oh = str_to_oh(x_list).type(torch.float32)\n",
    "        Y_idx = torch.tensor([v_idx[l] for l in y_list])\n",
    "\n",
    "        X_batch[:, i] = X_oh\n",
    "        Y_batch[:, i] = Y_idx\n",
    "\n",
    "    return X_batch, Y_batch"
   ]
  },
  {
   "cell_type": "code",
   "execution_count": 6,
   "metadata": {},
   "outputs": [],
   "source": [
    "n_hidden = 256\n",
    "model = LSTM(n_vocab, n_hidden, n_vocab, num_layers=10)\n",
    "# model.load_state_dict(torch.load('models/model_29.pt'))\n",
    "\n",
    "loss_fn = nn.CrossEntropyLoss()\n",
    "optimizer = torch.optim.Adam(model.parameters(), lr=0.001)\n",
    "\n",
    "losses = []\n",
    "batch_size = 128\n",
    "\n",
    "writer = SummaryWriter()"
   ]
  },
  {
   "cell_type": "code",
   "execution_count": 7,
   "metadata": {},
   "outputs": [
    {
     "name": "stderr",
     "output_type": "stream",
     "text": [
      " 66%|██████▌   | 1985/3000 [26:03<13:03,  1.30it/s]"
     ]
    }
   ],
   "source": [
    "for i in tqdm(range(3000)):\n",
    "    X, y = random_tr_set_batch(chars, seq_length=100, batch_size=batch_size)\n",
    "    \n",
    "    h, c = model.init_hidden(batch_size=batch_size)\n",
    "    # output, (h, c) = model(X, (h, c))\n",
    "    output, (h, c) = model(X, (h.detach(), c.detach()))\n",
    "\n",
    "    output = output.view(-1, n_vocab)\n",
    "    y = y.view(-1)\n",
    "    loss = loss_fn(output, y)\n",
    "    # losses.append(loss.item())\n",
    "    \n",
    "    writer.add_scalar('Loss/train', loss.detach(), i)\n",
    "    \n",
    "    if i % 500 == 0:\n",
    "        if not os.path.exists('models/'):\n",
    "            os.makedirs('models/')\n",
    "        file_name = f'models/model_{str(round(i/100))}.pt'\n",
    "        torch.save(model.state_dict(), file_name)\n",
    "\n",
    "    model.zero_grad()\n",
    "    loss.backward()\n",
    "    optimizer.step()"
   ]
  },
  {
   "cell_type": "code",
   "execution_count": null,
   "metadata": {},
   "outputs": [
    {
     "data": {
      "text/plain": [
       "[<matplotlib.lines.Line2D at 0x129fe2d10>]"
      ]
     },
     "execution_count": 8,
     "metadata": {},
     "output_type": "execute_result"
    },
    {
     "data": {
      "image/png": "[encoded data removed]",
      "text/plain": [
       "<Figure size 640x480 with 1 Axes>"
      ]
     },
     "metadata": {},
     "output_type": "display_data"
    }
   ],
   "source": [
    "plt.plot(losses)\n",
    "\n",
    "# ADD DROPOUT AND REGULARIZATION"
   ]
  }
 ],
 "metadata": {
  "kernelspec": {
   "display_name": "Python 3",
   "language": "python",
   "name": "python3"
  },
  "language_info": {
   "codemirror_mode": {
    "name": "ipython",
    "version": 3
   },
   "file_extension": ".py",
   "mimetype": "text/x-python",
   "name": "python",
   "nbconvert_exporter": "python",
   "pygments_lexer": "ipython3",
   "version": "3.10.12"
  },
  "orig_nbformat": 4
 },
 "nbformat": 4,
 "nbformat_minor": 2
}
